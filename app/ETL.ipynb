{
 "cells": [
  {
   "attachments": {},
   "cell_type": "markdown",
   "metadata": {},
   "source": [
    "EXTRACCIÓN DE DATOS</br>\n",
    "Lectura de archivos"
   ]
  },
  {
   "cell_type": "code",
   "execution_count": 31,
   "metadata": {},
   "outputs": [],
   "source": [
    "import pandas as pd\n",
    "import os\n",
    "import glob\n",
    "from datetime import datetime\n",
    "from sqlalchemy import create_engine"
   ]
  },
  {
   "cell_type": "code",
   "execution_count": 32,
   "metadata": {},
   "outputs": [],
   "source": [
    "df = pd.read_csv(\"Datasets/df.csv\")\n",
    "# total_filas = len(df)\n",
    "# cuarta_parte = total_filas // 4\n",
    "\n",
    "# df = df.iloc[:cuarta_parte]\n",
    "# df.to_csv(\"Datasets/df1.csv\")"
   ]
  },
  {
   "cell_type": "markdown",
   "metadata": {},
   "source": [
    "consultas"
   ]
  },
  {
   "cell_type": "code",
   "execution_count": 33,
   "metadata": {},
   "outputs": [
    {
     "data": {
      "text/plain": [
       "{'promedio de precio': 161.3724761904762}"
      ]
     },
     "execution_count": 33,
     "metadata": {},
     "output_type": "execute_result"
    }
   ],
   "source": [
    "#query 1: Promedio de precio para sucursal_id '9-1-688': 202.56114869626498\n",
    "def promedio_precio(sucursal_id:str):\n",
    "    precio_promedio1 = df[df['sucursal_id'] == sucursal_id]['precio'].mean()\n",
    "    return {'promedio de precio': precio_promedio1}\n",
    "\n",
    "promedio_precio('2-1-014')"
   ]
  },
  {
   "cell_type": "code",
   "execution_count": 34,
   "metadata": {},
   "outputs": [
    {
     "data": {
      "text/plain": [
       "{'precio promedio de la marca DOVE:': 669.3625000000001}"
      ]
     },
     "execution_count": 34,
     "metadata": {},
     "output_type": "execute_result"
    }
   ],
   "source": [
    "#query 2: calcular el precio promedio de la marca DOVE\n",
    "def precio_promedio_marca(marca:str):\n",
    "    precio_promedio_marca = df[df['marca'] == marca]['precio'].mean()\n",
    "    return {\"precio promedio de la marca DOVE:\": precio_promedio_marca}\n",
    "precio_promedio_marca('DOVE')"
   ]
  },
  {
   "cell_type": "code",
   "execution_count": 35,
   "metadata": {},
   "outputs": [
    {
     "data": {
      "text/plain": [
       "{'producto más vendido': 7793253001926, 'Cantidad de veces que se vendió': 7}"
      ]
     },
     "execution_count": 35,
     "metadata": {},
     "output_type": "execute_result"
    }
   ],
   "source": [
    "#query3: cantidad de veces que se vendio el producto_id mas vendido de la sucursaltipo 'Supermercado'\n",
    "def producto_mas_vendido(Supermercado:str):\n",
    "    supermercado_df = df[(df['sucursaltipo']==Supermercado)]\n",
    "    producto_mas_vendido = supermercado_df['producto_id'].value_counts().idxmax()\n",
    "    cantidad_mas_vendida = supermercado_df['producto_id'].value_counts().max()\n",
    "    \n",
    "    return {'producto más vendido': producto_mas_vendido,\n",
    "            'Cantidad de veces que se vendió':cantidad_mas_vendida}\n",
    "\n",
    "producto_mas_vendido('Supermercado')"
   ]
  }
 ],
 "metadata": {
  "kernelspec": {
   "display_name": "Python 3",
   "language": "python",
   "name": "python3"
  },
  "language_info": {
   "codemirror_mode": {
    "name": "ipython",
    "version": 3
   },
   "file_extension": ".py",
   "mimetype": "text/x-python",
   "name": "python",
   "nbconvert_exporter": "python",
   "pygments_lexer": "ipython3",
   "version": "3.11.5"
  },
  "orig_nbformat": 4,
  "vscode": {
   "interpreter": {
    "hash": "c01cf4a2356650b355da24661dd0626acaa1665bc8e66dede1d15fa072b6b8b3"
   }
  }
 },
 "nbformat": 4,
 "nbformat_minor": 2
}
